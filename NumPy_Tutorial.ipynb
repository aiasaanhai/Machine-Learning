{
  "cells": [
    {
      "cell_type": "code",
      "source": [],
      "metadata": {
        "id": "-UtW45KEGdv7"
      },
      "id": "-UtW45KEGdv7",
      "execution_count": null,
      "outputs": []
    },
    {
      "cell_type": "markdown",
      "source": [
        "[link text](https://)"
      ],
      "metadata": {
        "id": "m8jcxYbnHnQn"
      },
      "id": "m8jcxYbnHnQn"
    },
    {
      "cell_type": "markdown",
      "source": [
        "![Picture](https://www.google.com/url?sa=i&url=https%3A%2F%2Fen.m.wikipedia.org%2Fwiki%2FFile%3ANumPy_logo_2020.svg&psig=AOvVaw2HocwqS6huq1ozr5_hh50D&ust=1694872287824000&source=images&cd=vfe&opi=89978449&ved=0CBAQjRxqFwoTCMDryrfhrIEDFQAAAAAdAAAAABAE)"
      ],
      "metadata": {
        "id": "meCEpq4aGebo"
      },
      "id": "meCEpq4aGebo"
    },
    {
      "cell_type": "markdown",
      "metadata": {
        "id": "fOdEd7e5Fu4A"
      },
      "source": [
        "# What is NumPy\n",
        "\n",
        "NumPy is a library for the Python programming language, adding support for large, multi-dimensional arrays and matrices, along with a large collection of high-level mathematical functions to operate on these arrays."
      ],
      "id": "fOdEd7e5Fu4A"
    },
    {
      "cell_type": "code",
      "source": [],
      "metadata": {
        "id": "qneR5uMMF9sf"
      },
      "id": "qneR5uMMF9sf",
      "execution_count": null,
      "outputs": []
    },
    {
      "cell_type": "markdown",
      "metadata": {
        "id": "WN1SzodVFu4B"
      },
      "source": [
        "# Why use NumPy\n",
        "\n",
        "In Python we have lists that serve the purpose of arrays, but they are slow to process.\n",
        "\n",
        "NumPy aims to provide an array object that is up to 50x faster than traditional Python lists.\n",
        "\n",
        "The array object in NumPy is called ndarray, it provides a lot of supporting functions that make working with ndarray very easy.\n",
        "\n",
        "Arrays are very frequently used in data science, where speed and resources are very important.\n",
        "\n"
      ],
      "id": "WN1SzodVFu4B"
    },
    {
      "cell_type": "markdown",
      "metadata": {
        "id": "hmSr56-UFu4B"
      },
      "source": [
        "# Why is NumPy Faster Than Lists?\n",
        "\n",
        "NumPy arrays are stored at one continuous place in memory unlike lists, so processes can access and manipulate them very efficiently.\n",
        "\n",
        "This behavior is called locality of reference in computer science.\n",
        "\n",
        "This is the main reason why NumPy is faster than lists. Also it is optimized to work with latest CPU architectures."
      ],
      "id": "hmSr56-UFu4B"
    },
    {
      "cell_type": "markdown",
      "metadata": {
        "id": "gml8wpfRFu4C"
      },
      "source": [
        "![1_D-I8hK4WXC8wtpR5tvR0fw.png](attachment:1_D-I8hK4WXC8wtpR5tvR0fw.png)"
      ],
      "id": "gml8wpfRFu4C"
    },
    {
      "cell_type": "markdown",
      "metadata": {
        "id": "AaXNKmVSFu4C"
      },
      "source": [
        "# Importing NumPy\n",
        "```Python\n",
        "import numpy as np\n",
        "```"
      ],
      "id": "AaXNKmVSFu4C"
    },
    {
      "cell_type": "code",
      "source": [
        "l = [4, 6, 'hi', 'hello']\n",
        "l"
      ],
      "metadata": {
        "colab": {
          "base_uri": "https://localhost:8080/"
        },
        "id": "zBpqmHKrMGo3",
        "outputId": "fb44256a-1f55-4622-feec-4c78b5463d2b"
      },
      "id": "zBpqmHKrMGo3",
      "execution_count": null,
      "outputs": [
        {
          "output_type": "execute_result",
          "data": {
            "text/plain": [
              "[4, 6, 'hi', 'hello']"
            ]
          },
          "metadata": {},
          "execution_count": 1
        }
      ]
    },
    {
      "cell_type": "code",
      "execution_count": null,
      "metadata": {
        "id": "08KPKbndFu4C",
        "outputId": "e0c5b9fd-dfd9-46e8-bde8-df245358ffb8",
        "colab": {
          "base_uri": "https://localhost:8080/"
        }
      },
      "outputs": [
        {
          "output_type": "execute_result",
          "data": {
            "text/plain": [
              "[5, 7, 9]"
            ]
          },
          "metadata": {},
          "execution_count": 2
        }
      ],
      "source": [
        "a = [1,2,3] # a = [a[0], a[1], a[2]]\n",
        "b = [4,5,6] # b = [b[0], b[1], b[2]]\n",
        "\n",
        "\n",
        "c=[a[0]+b[0], a[1]+b[1], a[2]+b[2]]\n",
        "c"
      ],
      "id": "08KPKbndFu4C"
    },
    {
      "cell_type": "code",
      "source": [
        "import numpy as np\n",
        "\n",
        "l = [1, 2, 3]\n",
        "\n",
        "arr = np.array(l) # np.array([1, 2, 3])\n",
        "\n",
        "print(type(l))\n",
        "print(type(arr))"
      ],
      "metadata": {
        "colab": {
          "base_uri": "https://localhost:8080/"
        },
        "id": "vZn5kXK7EI7r",
        "outputId": "9a64eb56-369e-4af0-939d-287de534d7c4"
      },
      "id": "vZn5kXK7EI7r",
      "execution_count": null,
      "outputs": [
        {
          "output_type": "stream",
          "name": "stdout",
          "text": [
            "<class 'list'>\n",
            "<class 'numpy.ndarray'>\n"
          ]
        }
      ]
    },
    {
      "cell_type": "code",
      "execution_count": null,
      "metadata": {
        "id": "97BfcdUKFu4E",
        "outputId": "e3f4b79a-10a4-46ea-9605-191471620286",
        "colab": {
          "base_uri": "https://localhost:8080/"
        }
      },
      "outputs": [
        {
          "output_type": "stream",
          "name": "stdout",
          "text": [
            "[1, 2, 3, 4, 5, 6]\n",
            "[5 7 9]\n"
          ]
        }
      ],
      "source": [
        "import numpy as np\n",
        "\n",
        "a = [1, 2, 3]\n",
        "b = [4, 5, 6]\n",
        "print(a+b)\n",
        "\n",
        "array_a = np.array(a)  #array_a = np.array([1,2,3])\n",
        "array_b = np.array(b)  #array_b = np.array([4,5,6])\n",
        "print(array_a + array_b)"
      ],
      "id": "97BfcdUKFu4E"
    },
    {
      "cell_type": "code",
      "execution_count": null,
      "metadata": {
        "id": "D5pewE8bFu4F",
        "outputId": "390bd64b-78c0-4e00-b4a1-d13e5e4bff60"
      },
      "outputs": [
        {
          "data": {
            "text/plain": [
              "[1, 2, 3, 4, 5, 6]"
            ]
          },
          "execution_count": 5,
          "metadata": {},
          "output_type": "execute_result"
        }
      ],
      "source": [
        "a+b"
      ],
      "id": "D5pewE8bFu4F"
    },
    {
      "cell_type": "code",
      "execution_count": null,
      "metadata": {
        "id": "xi-mcGecFu4F",
        "outputId": "3ae1c08e-078f-4401-f267-00e1a84c971e"
      },
      "outputs": [
        {
          "data": {
            "text/plain": [
              "array([1, 2, 3, 4, 5, 6])"
            ]
          },
          "execution_count": 37,
          "metadata": {},
          "output_type": "execute_result"
        }
      ],
      "source": [
        "np.concatenate((array_a, array_b))"
      ],
      "id": "xi-mcGecFu4F"
    },
    {
      "cell_type": "markdown",
      "metadata": {
        "id": "OHmPE7jiFu4G"
      },
      "source": [
        "# Arrays"
      ],
      "id": "OHmPE7jiFu4G"
    },
    {
      "cell_type": "code",
      "execution_count": null,
      "metadata": {
        "id": "Vg322frLFu4G",
        "outputId": "8422c147-7b14-43ec-b475-c9cca44d507f",
        "colab": {
          "base_uri": "https://localhost:8080/"
        }
      },
      "outputs": [
        {
          "output_type": "stream",
          "name": "stdout",
          "text": [
            "[1 2 3 4 5]\n"
          ]
        }
      ],
      "source": [
        "#1-D array\n",
        "import numpy as np\n",
        "\n",
        "arr = np.array([1, 2, 3, 4, 5])\n",
        "\n",
        "print(arr)"
      ],
      "id": "Vg322frLFu4G"
    },
    {
      "cell_type": "code",
      "execution_count": null,
      "metadata": {
        "id": "9Ur3gpItFu4G",
        "outputId": "d9f91e24-f7b8-4128-862d-2957b55b298b",
        "colab": {
          "base_uri": "https://localhost:8080/"
        }
      },
      "outputs": [
        {
          "output_type": "stream",
          "name": "stdout",
          "text": [
            "Matrix is: \n",
            "[[1 2 3]\n",
            " [4 5 6]]\n",
            "Shape of the matrix is: (2, 3)\n"
          ]
        }
      ],
      "source": [
        "#2-D array\n",
        "import numpy as np\n",
        "\n",
        "arr = np.array([[1, 2, 3], [4, 5, 6]])\n",
        "\n",
        "print(f'Matrix is: \\n{arr}')\n",
        "print(f'Shape of the matrix is: {arr.shape}')"
      ],
      "id": "9Ur3gpItFu4G"
    },
    {
      "cell_type": "code",
      "source": [
        "# create a matrix of size (3, 2)\n",
        "l = [[1, 2], [3, 4], [5, 6]]\n",
        "array_3_2 = np.array(l)\n",
        "print(f'array is: \\n{array_3_2}')\n",
        "print(f'Shape of the array is: \\n{array_3_2.shape}')"
      ],
      "metadata": {
        "colab": {
          "base_uri": "https://localhost:8080/"
        },
        "id": "SaiI_KLUF9-p",
        "outputId": "73f4a454-87f3-43ef-fd1a-ef08896bee20"
      },
      "id": "SaiI_KLUF9-p",
      "execution_count": null,
      "outputs": [
        {
          "output_type": "stream",
          "name": "stdout",
          "text": [
            "array is: \n",
            "[[1 2]\n",
            " [3 4]\n",
            " [5 6]]\n",
            "Shape of the array is: \n",
            "(3, 2)\n"
          ]
        }
      ]
    },
    {
      "cell_type": "code",
      "execution_count": null,
      "metadata": {
        "id": "zgywKG5iFu4G",
        "outputId": "f5d5f3ae-f421-46b7-f6d7-2cfbc15c3e19",
        "colab": {
          "base_uri": "https://localhost:8080/"
        }
      },
      "outputs": [
        {
          "output_type": "execute_result",
          "data": {
            "text/plain": [
              "array([ 6, 15])"
            ]
          },
          "metadata": {},
          "execution_count": 13
        }
      ],
      "source": [
        "np.sum(arr, axis=1)"
      ],
      "id": "zgywKG5iFu4G"
    },
    {
      "cell_type": "code",
      "execution_count": null,
      "metadata": {
        "id": "CRibV_yuFu4G",
        "outputId": "2c3c31f7-f1e6-4334-bfa5-9856c7adfeff",
        "colab": {
          "base_uri": "https://localhost:8080/"
        }
      },
      "outputs": [
        {
          "output_type": "stream",
          "name": "stdout",
          "text": [
            "[[[ 1  2  3]\n",
            "  [ 4  5  6]]\n",
            "\n",
            " [[ 1  2 31]\n",
            "  [ 4  5  6]]]\n",
            "(2, 2, 3)\n"
          ]
        }
      ],
      "source": [
        "#3-D array\n",
        "\n",
        "import numpy as np\n",
        "\n",
        "arr = np.array([ [[1, 2, 3], [4, 5, 6]], [[1, 2, 31], [4, 5, 6]] ])\n",
        "\n",
        "print(arr)\n",
        "\n",
        "print(arr.shape)"
      ],
      "id": "CRibV_yuFu4G"
    },
    {
      "cell_type": "code",
      "execution_count": null,
      "metadata": {
        "id": "QngYwNRxFu4H",
        "outputId": "a7394d09-66f8-453e-a069-d3945e3c3d53",
        "colab": {
          "base_uri": "https://localhost:8080/"
        }
      },
      "outputs": [
        {
          "output_type": "stream",
          "name": "stdout",
          "text": [
            "[[22 28]\n",
            " [49 64]]\n"
          ]
        }
      ],
      "source": [
        "arr_1 = np.array([[1, 2, 3], [4, 5, 6]]) #shape = 2X3\n",
        "arr_2 = np.array([[1, 2], [3, 4], [5, 6]]) #shape 3X2\n",
        "# print(arr_1 * arr_2)\n",
        "\n",
        "print(np.dot(arr_1, arr_2))"
      ],
      "id": "QngYwNRxFu4H"
    },
    {
      "cell_type": "markdown",
      "metadata": {
        "id": "jzWbluQrFu4H"
      },
      "source": [
        "# Fill the blanks to generate the following Matrix\n",
        "$$\\begin{bmatrix} 1 & 2 & 1 \\\\ 3 & 0 & 1 \\\\ 0 & 2 & 4 \\end{bmatrix}$$"
      ],
      "id": "jzWbluQrFu4H"
    },
    {
      "cell_type": "code",
      "execution_count": null,
      "metadata": {
        "id": "NnbBdrgAFu4H",
        "outputId": "f8408852-1311-4b39-e599-d7eeaab40ec1",
        "colab": {
          "base_uri": "https://localhost:8080/"
        }
      },
      "outputs": [
        {
          "output_type": "stream",
          "name": "stdout",
          "text": [
            "[[1 2 1]\n",
            " [3 0 1]\n",
            " [0 2 4]]\n"
          ]
        }
      ],
      "source": [
        "mat = np.array([ [1, 2, 1], [3, 0, 1], [0, 2, 4]])\n",
        "print(mat)"
      ],
      "id": "NnbBdrgAFu4H"
    },
    {
      "cell_type": "code",
      "execution_count": null,
      "metadata": {
        "id": "9V0wyfAJFu4I",
        "outputId": "b9f17c29-5211-4fcc-8e5a-9810cf623707",
        "colab": {
          "base_uri": "https://localhost:8080/"
        }
      },
      "outputs": [
        {
          "output_type": "execute_result",
          "data": {
            "text/plain": [
              "array([-10. ,  -9.5,  -9. ,  -8.5,  -8. ,  -7.5,  -7. ,  -6.5,  -6. ,\n",
              "        -5.5,  -5. ,  -4.5,  -4. ,  -3.5,  -3. ,  -2.5,  -2. ,  -1.5,\n",
              "        -1. ,  -0.5,   0. ,   0.5,   1. ,   1.5,   2. ,   2.5,   3. ,\n",
              "         3.5,   4. ,   4.5,   5. ,   5.5,   6. ,   6.5,   7. ,   7.5,\n",
              "         8. ,   8.5,   9. ,   9.5])"
            ]
          },
          "metadata": {},
          "execution_count": 26
        }
      ],
      "source": [
        "#arange function\n",
        "\n",
        "a = np.arange(0,10,2)\n",
        "\n",
        "# b = np.arange(0,10,2) #(start, end, skip)\n",
        "\n",
        "c = np.arange(-10,10, 0.5)\n",
        "\n",
        "c"
      ],
      "id": "9V0wyfAJFu4I"
    },
    {
      "cell_type": "markdown",
      "metadata": {
        "id": "vM6i1ByRFu4I"
      },
      "source": [
        "# Fill the blank to generate the following  vector\n",
        "$$\\begin{bmatrix} -30 & -20 & -10 & 0 & 10 & 20 & 30 & 40 \\end{bmatrix}$$\n"
      ],
      "id": "vM6i1ByRFu4I"
    },
    {
      "cell_type": "code",
      "execution_count": null,
      "metadata": {
        "id": "r8W_lsCnFu4I",
        "outputId": "ba6097dc-d3fb-4505-f7fc-46dc47413402",
        "colab": {
          "base_uri": "https://localhost:8080/"
        }
      },
      "outputs": [
        {
          "output_type": "execute_result",
          "data": {
            "text/plain": [
              "array([-30, -20, -10,   0,  10,  20,  30,  40])"
            ]
          },
          "metadata": {},
          "execution_count": 28
        }
      ],
      "source": [
        "p = np.arange(-30, 50, 10) #fill the blank\n",
        "p"
      ],
      "id": "r8W_lsCnFu4I"
    },
    {
      "cell_type": "markdown",
      "metadata": {
        "id": "Q33rIVvUFu4I"
      },
      "source": [
        "![numpy_arrays-1024x572.png](attachment:numpy_arrays-1024x572.png)"
      ],
      "id": "Q33rIVvUFu4I"
    },
    {
      "cell_type": "code",
      "execution_count": null,
      "metadata": {
        "id": "W4npBptIFu4I",
        "outputId": "5a06f6e4-13e0-43b6-80cb-5ff5171f2c3d",
        "colab": {
          "base_uri": "https://localhost:8080/",
          "height": 228
        }
      },
      "outputs": [
        {
          "output_type": "error",
          "ename": "ValueError",
          "evalue": "ignored",
          "traceback": [
            "\u001b[0;31m---------------------------------------------------------------------------\u001b[0m",
            "\u001b[0;31mValueError\u001b[0m                                Traceback (most recent call last)",
            "\u001b[0;32m<ipython-input-50-e2da8c7166e4>\u001b[0m in \u001b[0;36m<cell line: 5>\u001b[0;34m()\u001b[0m\n\u001b[1;32m      3\u001b[0m \u001b[0marr\u001b[0m \u001b[0;34m=\u001b[0m \u001b[0mnp\u001b[0m\u001b[0;34m.\u001b[0m\u001b[0marange\u001b[0m\u001b[0;34m(\u001b[0m\u001b[0;36m4\u001b[0m\u001b[0;34m,\u001b[0m \u001b[0;36m12\u001b[0m\u001b[0;34m)\u001b[0m\u001b[0;34m\u001b[0m\u001b[0;34m\u001b[0m\u001b[0m\n\u001b[1;32m      4\u001b[0m \u001b[0;31m# print(arr)\u001b[0m\u001b[0;34m\u001b[0m\u001b[0;34m\u001b[0m\u001b[0m\n\u001b[0;32m----> 5\u001b[0;31m \u001b[0marray_reshaped_1\u001b[0m \u001b[0;34m=\u001b[0m \u001b[0mnp\u001b[0m\u001b[0;34m.\u001b[0m\u001b[0marange\u001b[0m\u001b[0;34m(\u001b[0m\u001b[0;36m4\u001b[0m\u001b[0;34m,\u001b[0m\u001b[0;36m12\u001b[0m\u001b[0;34m)\u001b[0m\u001b[0;34m.\u001b[0m\u001b[0mreshape\u001b[0m\u001b[0;34m(\u001b[0m\u001b[0;36m2\u001b[0m\u001b[0;34m,\u001b[0m \u001b[0;36m0\u001b[0m\u001b[0;34m)\u001b[0m \u001b[0;31m#reshape(row, columns)\u001b[0m\u001b[0;34m\u001b[0m\u001b[0;34m\u001b[0m\u001b[0m\n\u001b[0m\u001b[1;32m      6\u001b[0m \u001b[0marray_reshaped_1\u001b[0m\u001b[0;34m\u001b[0m\u001b[0;34m\u001b[0m\u001b[0m\n",
            "\u001b[0;31mValueError\u001b[0m: cannot reshape array of size 8 into shape (2,0)"
          ]
        }
      ],
      "source": [
        "#reshape function\n",
        "\n",
        "arr = np.arange(4, 12)\n",
        "# print(arr)\n",
        "array_reshaped_1 = np.arange(4,12).reshape(2, 0) #reshape(row, columns)\n",
        "array_reshaped_1"
      ],
      "id": "W4npBptIFu4I"
    },
    {
      "cell_type": "code",
      "execution_count": null,
      "metadata": {
        "id": "OBWm0G-oFu4I",
        "outputId": "c18671f4-52b2-4ffb-9269-4cb532beecef"
      },
      "outputs": [
        {
          "data": {
            "text/plain": [
              "1"
            ]
          },
          "execution_count": 17,
          "metadata": {},
          "output_type": "execute_result"
        }
      ],
      "source": [
        "array_reshaped_1.ndim"
      ],
      "id": "OBWm0G-oFu4I"
    },
    {
      "cell_type": "code",
      "execution_count": null,
      "metadata": {
        "id": "yT3C_ZcKFu4I",
        "outputId": "acc55c25-a9da-429d-9ef1-0850030d253a"
      },
      "outputs": [
        {
          "data": {
            "text/plain": [
              "(2, 4)"
            ]
          },
          "execution_count": 21,
          "metadata": {},
          "output_type": "execute_result"
        }
      ],
      "source": [
        "array_reshaped_1.shape"
      ],
      "id": "yT3C_ZcKFu4I"
    },
    {
      "cell_type": "code",
      "execution_count": null,
      "metadata": {
        "id": "LktUul-ZFu4J",
        "outputId": "7d5af879-3562-40e1-ce34-29494f871e71"
      },
      "outputs": [
        {
          "data": {
            "text/plain": [
              "array([[ 4.,  5.],\n",
              "       [ 6.,  7.],\n",
              "       [ 8.,  9.],\n",
              "       [10., 11.]])"
            ]
          },
          "execution_count": 22,
          "metadata": {},
          "output_type": "execute_result"
        }
      ],
      "source": [
        "array_reshaped_2 = np.arange(4.,12.).reshape(4,2)\n",
        "array_reshaped_2"
      ],
      "id": "LktUul-ZFu4J"
    },
    {
      "cell_type": "code",
      "execution_count": null,
      "metadata": {
        "id": "bXoI74zhFu4J",
        "outputId": "88e0ba04-2dbd-4f23-8bda-d465047037e6"
      },
      "outputs": [
        {
          "name": "stdout",
          "output_type": "stream",
          "text": [
            "int64\n",
            "float64\n",
            "8\n",
            "8\n"
          ]
        }
      ],
      "source": [
        "# data type of arrays and itemsize\n",
        "\n",
        "print(array_reshaped_1.dtype)\n",
        "\n",
        "print(array_reshaped_2.dtype)\n",
        "\n",
        "print(array_reshaped_1.itemsize)\n",
        "print(array_reshaped_2.itemsize)"
      ],
      "id": "bXoI74zhFu4J"
    },
    {
      "cell_type": "code",
      "execution_count": null,
      "metadata": {
        "id": "9EbRut9bFu4J",
        "outputId": "021104df-7fb9-4a98-cb79-c5e07ca897c0",
        "colab": {
          "base_uri": "https://localhost:8080/"
        }
      },
      "outputs": [
        {
          "output_type": "stream",
          "name": "stdout",
          "text": [
            "[1 2 3 4 5 6 7 8 9]\n",
            "[1. 2. 3. 4. 5. 6. 7. 8. 9.]\n",
            "int16\n",
            "float32\n",
            "4\n",
            "2\n"
          ]
        }
      ],
      "source": [
        "#array_int_item = np.array([1,2,3,4,5,6,7,8,9], dtype='int64')\n",
        "array_int_item = np.arange(1,10, dtype='int16')\n",
        "\n",
        "#array_float_item = np.array([1,2,3,4,5,6,7,8,9], dtype='float64')\n",
        "#fill the blank\n",
        "array_float_item=np.arange(1,10, dtype='float32')\n",
        "\n",
        "print(array_int_item)\n",
        "print(array_float_item)\n",
        "\n",
        "print(array_int_item.dtype)\n",
        "print(array_float_item.dtype)\n",
        "\n",
        "print(array_float_item.itemsize)\n",
        "print(array_int_item.itemsize)"
      ],
      "id": "9EbRut9bFu4J"
    },
    {
      "cell_type": "markdown",
      "metadata": {
        "id": "79oYgcFYFu4J"
      },
      "source": [
        "# Fill the blanks to generate the following matrix\n",
        "$$\\begin{bmatrix} 1.5 & 2.5 & 3.5 \\\\ 4.5 & 5.5 & 6.5  \\\\ 7.5 & 8.5 & 9.5  \\end{bmatrix}$$"
      ],
      "id": "79oYgcFYFu4J"
    },
    {
      "cell_type": "code",
      "execution_count": null,
      "metadata": {
        "id": "DypmxN64Fu4J",
        "outputId": "e795b50e-9b1c-46ad-e90b-991634b7cbed",
        "colab": {
          "base_uri": "https://localhost:8080/"
        }
      },
      "outputs": [
        {
          "output_type": "stream",
          "name": "stdout",
          "text": [
            "[[1.5 2.5 3.5]\n",
            " [4.5 5.5 6.5]\n",
            " [7.5 8.5 9.5]]\n"
          ]
        }
      ],
      "source": [
        "float_array = np.arange(1.5,10.5, 1, dtype='float64').reshape(3, 3)\n",
        "\n",
        "print(float_array)"
      ],
      "id": "DypmxN64Fu4J"
    },
    {
      "cell_type": "code",
      "execution_count": null,
      "metadata": {
        "id": "UMKaLj8_Fu4J",
        "outputId": "14f550e6-e50e-4ae5-fd6a-127a0887cedd",
        "colab": {
          "base_uri": "https://localhost:8080/"
        }
      },
      "outputs": [
        {
          "output_type": "execute_result",
          "data": {
            "text/plain": [
              "array([[99., 99.],\n",
              "       [99., 99.]])"
            ]
          },
          "metadata": {},
          "execution_count": 45
        }
      ],
      "source": [
        "#array full of zeros and ones\n",
        "\n",
        "zero_array = np.zeros((2,3), dtype='float64')\n",
        "\n",
        "one_array = np.ones((2,3), dtype='float64')\n",
        "\n",
        "full_array = np.full((2,2), 99, dtype='float64')\n",
        "\n",
        "full_array"
      ],
      "id": "UMKaLj8_Fu4J"
    },
    {
      "cell_type": "code",
      "execution_count": null,
      "metadata": {
        "id": "84Jyr49dFu4J",
        "outputId": "b774adbb-bd4d-457e-8d83-87c80446595b"
      },
      "outputs": [
        {
          "name": "stdout",
          "output_type": "stream",
          "text": [
            "[[0.58309026 0.28679404]\n",
            " [0.81718767 0.51384471]\n",
            " [0.05989703 0.25553814]\n",
            " [0.75812778 0.00150133]]\n",
            "[[ 3  6  2]\n",
            " [ 2  0 -3]\n",
            " [ 5  5 -4]]\n",
            "[[1 5 1]\n",
            " [7 6 3]\n",
            " [7 2 6]]\n"
          ]
        }
      ],
      "source": [
        "#randoms\n",
        "\n",
        "random_array_1 = np.random.rand(4,2)\n",
        "print(random_array_1)\n",
        "\n",
        "random_array_2 = np.random.randint(-4,7, size=(3,3))\n",
        "\n",
        "print(random_array_2)\n",
        "\n",
        "random_array_3 = np.random.randint(0, 8, size=(3,3))\n",
        "\n",
        "print(random_array_3)"
      ],
      "id": "84Jyr49dFu4J"
    },
    {
      "cell_type": "code",
      "execution_count": null,
      "metadata": {
        "id": "axzCdZdoFu4K"
      },
      "outputs": [],
      "source": [],
      "id": "axzCdZdoFu4K"
    },
    {
      "cell_type": "markdown",
      "metadata": {
        "id": "PhMiVXDqFu4K"
      },
      "source": [
        "# access elements"
      ],
      "id": "PhMiVXDqFu4K"
    },
    {
      "cell_type": "code",
      "execution_count": null,
      "metadata": {
        "id": "QzIRxrZ6Fu4K",
        "outputId": "67a396f2-a151-477e-e56e-4c0e06790e5a"
      },
      "outputs": [
        {
          "name": "stdout",
          "output_type": "stream",
          "text": [
            "[[ 0  1  2  3  4]\n",
            " [ 5  6  7  8  9]\n",
            " [10 11 12 13 14]\n",
            " [15 16 17 18 19]\n",
            " [20 21 22 23 24]]\n",
            "[[ 0  1  2  3  4]\n",
            " [ 5  6  7  8  9]\n",
            " [10 11 12 13 14]\n",
            " [15 16 17 18 19]\n",
            " [20 21 22 23 24]]\n",
            "[[ 0  1  2  3  4]\n",
            " [ 5  6  7  8  9]\n",
            " [10 11 12 13 14]\n",
            " [15 16 17 18 19]\n",
            " [20 21 22 23 24]]\n",
            "[[ 0  1  2  3  4]\n",
            " [ 5  6  7  8  9]\n",
            " [10 11 12 13 14]\n",
            " [15 16 17 18 19]\n",
            " [20 21 22 23 24]]\n"
          ]
        }
      ],
      "source": [
        "a = np.arange(25).reshape(5,5)\n",
        "\n",
        "print(a)\n",
        "\n",
        "print(a[:, :])\n",
        "\n",
        "print(a[0:5, 0:5])\n",
        "\n",
        "print(a[0:5:1, 0:5:1])"
      ],
      "id": "QzIRxrZ6Fu4K"
    },
    {
      "cell_type": "code",
      "execution_count": null,
      "metadata": {
        "id": "tJcKp4sNFu4K",
        "outputId": "0138337f-6b5f-403b-ad2b-a9311e857195"
      },
      "outputs": [
        {
          "name": "stdout",
          "output_type": "stream",
          "text": [
            "[[25 26 27 28 29]\n",
            " [30 31 32 33 34]\n",
            " [35 36 37 38 39]\n",
            " [40 41 42 43 44]\n",
            " [45 46 47 48 49]]\n",
            "[[31 33]\n",
            " [41 43]]\n"
          ]
        }
      ],
      "source": [
        "a = np.arange(25,50).reshape(5, -1)\n",
        "print(a)\n",
        "print(a[1:4:2,1:4:2])  #[start:end:skip, start:end:skip]"
      ],
      "id": "tJcKp4sNFu4K"
    },
    {
      "cell_type": "code",
      "execution_count": null,
      "metadata": {
        "id": "zHXiKOFVFu4K",
        "outputId": "38bc5d16-0c33-4dfe-ef04-c5496f042452"
      },
      "outputs": [
        {
          "name": "stdout",
          "output_type": "stream",
          "text": [
            "[[25 26 27 28 29]\n",
            " [30 31 32 33 34]\n",
            " [35 36 37 38 39]\n",
            " [40 41 42 43 44]\n",
            " [45 46 47 48 49]]\n",
            "(5, 5)\n",
            "[[25 26 27 28 29 30 31 32 33 34 35 36 37 38 39 40 41 42 43 44 45 46 47 48\n",
            "  49]]\n",
            "(1, 25)\n"
          ]
        }
      ],
      "source": [
        "check_reshape = np.arange(25,50).reshape(5,5)\n",
        "print(check_reshape)\n",
        "print(check_reshape.shape)\n",
        "\n",
        "reshaped = check_reshape.reshape(1,25)\n",
        "\n",
        "print(reshaped)\n",
        "print(reshaped.shape)"
      ],
      "id": "zHXiKOFVFu4K"
    },
    {
      "cell_type": "markdown",
      "metadata": {
        "id": "Jf0bBkkrFu4K"
      },
      "source": [
        "# fill the blanks to print the following matrix\n",
        "$$\\begin{bmatrix} 1 & 1 & 1 & 1 & 1 \\\\ 1 & 0 & 0 & 0 & 1  \\\\ 1 & 0 & 9 & 0 & 1 \\\\ 1 & 0 & 0 & 0 & 1 \\\\1 & 1 & 1 & 1 & 1 \\end{bmatrix}$$"
      ],
      "id": "Jf0bBkkrFu4K"
    },
    {
      "cell_type": "code",
      "execution_count": null,
      "metadata": {
        "id": "QwiWwEWUFu4L",
        "outputId": "a510324d-134c-40a0-ebad-610ab924159d",
        "colab": {
          "base_uri": "https://localhost:8080/"
        }
      },
      "outputs": [
        {
          "output_type": "execute_result",
          "data": {
            "text/plain": [
              "array([[1, 1, 1, 1, 1],\n",
              "       [1, 0, 0, 0, 1],\n",
              "       [1, 0, 9, 0, 1],\n",
              "       [1, 0, 0, 0, 1],\n",
              "       [1, 1, 1, 1, 1]])"
            ]
          },
          "metadata": {},
          "execution_count": 49
        }
      ],
      "source": [
        "a = np.ones((5,5), dtype='int64')\n",
        "b = np.zeros((3,3))\n",
        "b[1, 1]=9   #fill this blank\n",
        "a[1:-1, 1:-1]=b   #fill this blank\n",
        "a"
      ],
      "id": "QwiWwEWUFu4L"
    },
    {
      "cell_type": "markdown",
      "metadata": {
        "id": "Xjq43bCuFu4P"
      },
      "source": [
        "# Mathematics"
      ],
      "id": "Xjq43bCuFu4P"
    },
    {
      "cell_type": "code",
      "execution_count": null,
      "metadata": {
        "id": "3XpQ7PxCFu4Q",
        "outputId": "ac0ecb12-1480-4c61-d051-927cf5e7fc89"
      },
      "outputs": [
        {
          "name": "stdout",
          "output_type": "stream",
          "text": [
            "[3 4 5 6]\n",
            "[2 4 6 8]\n",
            "[ 1  4  9 16]\n",
            "[0.5 1.  1.5 2. ]\n"
          ]
        }
      ],
      "source": [
        "a = np.array([1,2,3,4], dtype='int64')\n",
        "\n",
        "print(a+2)\n",
        "print(a*2)\n",
        "print(a**2)\n",
        "print(a/2)"
      ],
      "id": "3XpQ7PxCFu4Q"
    },
    {
      "cell_type": "code",
      "execution_count": null,
      "metadata": {
        "id": "I27pfs_8Fu4Q",
        "outputId": "fa9acf75-45ff-481f-b9d5-4197a3bbd6fb"
      },
      "outputs": [
        {
          "data": {
            "text/plain": [
              "array([ 5.00000000e-01,  8.66025404e-01,  1.00000000e+00,  8.66025404e-01,\n",
              "        5.00000000e-01,  1.22464680e-16, -5.00000000e-01, -8.66025404e-01,\n",
              "       -1.00000000e+00, -8.66025404e-01, -5.00000000e-01])"
            ]
          },
          "execution_count": 49,
          "metadata": {},
          "output_type": "execute_result"
        }
      ],
      "source": [
        "angles = np.arange(30,360,30)*np.pi/180 #angles in radians..\n",
        "\n",
        "sin_values = np.sin(angles)\n",
        "sin_values\n"
      ],
      "id": "I27pfs_8Fu4Q"
    },
    {
      "cell_type": "code",
      "execution_count": null,
      "metadata": {
        "id": "N-qCggKgFu4Q",
        "outputId": "92302b6c-d34b-40ec-9994-e41b39ad420f"
      },
      "outputs": [
        {
          "name": "stdout",
          "output_type": "stream",
          "text": [
            "499.9999999987884\n"
          ]
        }
      ],
      "source": [
        "a = np.arange(20,30).reshape(2,5)\n",
        "\n",
        "b = np.arange(30,40).reshape(5,2)\n",
        "\n",
        "c = np.matmul(a,b)\n",
        "\n",
        "print(np.linalg.det(c))\n"
      ],
      "id": "N-qCggKgFu4Q"
    },
    {
      "cell_type": "code",
      "execution_count": null,
      "metadata": {
        "id": "be6gB-IRFu4Q",
        "outputId": "a7419beb-1974-415b-881f-86a507adac4d"
      },
      "outputs": [
        {
          "name": "stdout",
          "output_type": "stream",
          "text": [
            "(array([5.87893540e-02, 8.50494121e+03]), array([[-0.7172319 , -0.63204111],\n",
            "       [ 0.69683456, -0.77493486]]))\n",
            "8537.073561824333\n",
            "2\n"
          ]
        }
      ],
      "source": [
        "print(np.linalg.eig(c))\n",
        "\n",
        "print(np.linalg.norm(c))\n",
        "\n",
        "print(np.linalg.matrix_rank(c))"
      ],
      "id": "be6gB-IRFu4Q"
    },
    {
      "cell_type": "code",
      "execution_count": null,
      "metadata": {
        "id": "0lSZaTG-Fu4Q",
        "outputId": "b186d9ef-4e57-4110-a7ca-323cd6568910"
      },
      "outputs": [
        {
          "name": "stdout",
          "output_type": "stream",
          "text": [
            "[[ 1. -4.]\n",
            " [ 0.  1.]]\n",
            "[[ 1. -4.]\n",
            " [ 0.  1.]]\n",
            "[[1 3]\n",
            " [0 1]]\n",
            "[[ 1 -1]\n",
            " [ 0  1]]\n"
          ]
        }
      ],
      "source": [
        "a = np.array([[1,3], [0,1]])\n",
        "b = np.array([[1,-1], [0,1]])\n",
        "\n",
        "print(np.linalg.solve(a,b))  #ax=b => x=b*a^-1\n",
        "\n",
        "print(np.matmul(np.linalg.inv(a), b))\n",
        "print(a)\n",
        "print(b)"
      ],
      "id": "0lSZaTG-Fu4Q"
    },
    {
      "cell_type": "code",
      "execution_count": null,
      "metadata": {
        "id": "zw1oN7W0Fu4Q",
        "outputId": "37bb5101-4e32-4a13-df91-abffcd8cf3b5",
        "colab": {
          "base_uri": "https://localhost:8080/"
        }
      },
      "outputs": [
        {
          "output_type": "execute_result",
          "data": {
            "text/plain": [
              "array([[4.8, 3.4, 1.6, 0.2],\n",
              "       [4.8, 3.4, 1.9, 0.2],\n",
              "       [4.7, 3.2, 1.6, 0.2],\n",
              "       [4.8, 3.1, 1.6, 0.2],\n",
              "       [4.9, 2.4, 3.3, 1. ],\n",
              "       [4.9, 2.5, 4.5, 1.7]])"
            ]
          },
          "metadata": {},
          "execution_count": 10
        }
      ],
      "source": [
        "import numpy as np\n",
        "\n",
        "url = 'https://archive.ics.uci.edu/ml/machine-learning-databases/iris/iris.data'\n",
        "iris_data = np.genfromtxt(url, delimiter=',', dtype='float', usecols=[0,1,2,3])\n",
        "\n",
        "# Solution\n",
        "iris_data[(iris_data[:, 2] > 1.5) & (iris_data[:, 0] < 5.0)]"
      ],
      "id": "zw1oN7W0Fu4Q"
    },
    {
      "cell_type": "code",
      "execution_count": null,
      "metadata": {
        "id": "kZK3xycOFu4R",
        "outputId": "b79eaa58-83c5-4621-c327-6a29131fdbde"
      },
      "outputs": [
        {
          "data": {
            "text/plain": [
              "array([[1, 2],\n",
              "       [3, 4]])"
            ]
          },
          "execution_count": 7,
          "metadata": {},
          "output_type": "execute_result"
        }
      ],
      "source": [
        "n = np.array([1,2,3,4])\n",
        "n = n.reshape((2,-1))\n",
        "n"
      ],
      "id": "kZK3xycOFu4R"
    }
  ],
  "metadata": {
    "kernelspec": {
      "display_name": "Python 3",
      "language": "python",
      "name": "python3"
    },
    "language_info": {
      "codemirror_mode": {
        "name": "ipython",
        "version": 3
      },
      "file_extension": ".py",
      "mimetype": "text/x-python",
      "name": "python",
      "nbconvert_exporter": "python",
      "pygments_lexer": "ipython3",
      "version": "3.8.10"
    },
    "colab": {
      "provenance": []
    }
  },
  "nbformat": 4,
  "nbformat_minor": 5
}